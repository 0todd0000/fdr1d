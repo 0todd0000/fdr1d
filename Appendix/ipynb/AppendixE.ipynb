{
 "cells": [
  {
   "cell_type": "markdown",
   "metadata": {},
   "source": [
    "# Appendix E:  Validation of FDR’s control of false positive node proportion\n",
    "\n",
    "This appendix contains RFT and FDR results (Fig.E1) from six experimental datasets and a total of eight different analyses (Table E1) that were conducted but were not included in the main manuscript. The datasets represent a variety of biomechanical modalities, experimental designs and tasks."
   ]
  },
  {
   "attachments": {},
   "cell_type": "markdown",
   "metadata": {},
   "source": [
    "___\n",
    "\n",
    "**Table E1**. Experimental datasets and analyses. J and Q are the sample size and number of time nodes, respectively. GRF = ground reaction force. EMG = electromyography. \n",
    "\n",
    "| Dataset | Source | J | Q | Model | Task | Variables |\n",
    "| :---: | :---: | :---: | :---: | :---: | :---: | :---: |\n",
    "| A | Caravaggi et al., 2010 | 10 | 101 | Paired t-test | Walking | Plantar arch deformation |\n",
    "| B\t| Dorn, Schache & Pandy, 2012 |\t7 |\t100\t| Linear regression\t| Running/ sprinting |\tGRF |\n",
    "| C\t| Pataky et al., 2008 | \t59\t| 101 |\tLinear regression | Walking | GRF\n",
    "| D\t| Neptune, Wright & Van Den Bogert, 1999 | 15 |\t101\t| Two sample t-test\t| Cutting movement | Kinematics, EMG |\n",
    "| E | Pataky et al., 2014 | 10 | 101 | Paired t-test | Walking | Center of pressure |\n",
    "| F | Caravaggi et al., 2010 | 19 | 101 | Two sample t-test | Walking | Plantar arch deformation |\n",
    "| G | Pataky et al., 2008 |\t20 | 101 | One sample t-test | Walking | GRF |\n",
    "| H\t| Besier et al., 2009 | 40 | 100 | Two sample t-test | Walking, running | GRF, muscle forces"
   ]
  },
  {
   "cell_type": "markdown",
   "metadata": {},
   "source": [
    "___\n",
    "\n",
    "|  |    |\n",
    "|------|------|\n",
    "|   <img src=\"./figs/A.png\" alt=\"FigA\" width=\"300\"/>  | <img src=\"./figs/B.png\" alt=\"FigB\" width=\"300\"/> |\n",
    "|   <img src=\"./figs/C.png\" alt=\"FigC\" width=\"300\"/>  | <img src=\"./figs/D.png\" alt=\"FigD\" width=\"300\"/> |\n",
    "|   <img src=\"./figs/E.png\" alt=\"FigE\" width=\"300\"/>  | <img src=\"./figs/F.png\" alt=\"FigF\" width=\"300\"/> |\n",
    "|   <img src=\"./figs/G.png\" alt=\"FigG\" width=\"300\"/>  | <img src=\"./figs/H.png\" alt=\"FigH\" width=\"300\"/> |\n",
    "\n",
    "\n",
    "\n",
    "\n",
    "\n",
    "\n",
    "\n",
    "**Figure E1**. Results from six datasets depicting two thresholds: false discovery rate (FDR) and random field theory (RFT). The null hypothesis is rejected if the t value traverses a threshold."
   ]
  },
  {
   "cell_type": "markdown",
   "metadata": {},
   "source": [
    "## References\n",
    "\n",
    "1. Besier TF, Fredericson M, Gold GE, Beaupré GS, Delp SL. 2009. Knee muscle forces during walking and running in patellofemoral pain patients and pain-free controls. Journal of Biomechanics 42:898–905. DOI: 10.1016/j.jbiomech.2009.01.032.\n",
    "\n",
    "1. Caravaggi P, Pataky T, Günther M, Savage R, Crompton R. 2010. Dynamics of longitudinal arch support in relation to walking speed: Contribution of the plantar aponeurosis. Journal of Anatomy 217:254–261. DOI: 10.1111/j.1469-7580.2010.01261.x.\n",
    "\n",
    "1. Dorn TW, Schache AG, Pandy MG. 2012. Muscular strategy shift in human running: dependence of running speed on hip and ankle muscle performance. Journal of Experimental Biology 215:1944–1956. DOI: 10.1242/jeb.064527.\n",
    "\n",
    "1. Neptune RR, Wright IC, Van Den Bogert AJ. 1999. Muscle coordination and function during cutting movements. Medicine and Science in Sports and Exercise 31:294–302. DOI: 10.1097/00005768-199902000-00014.\n",
    "\n",
    "1. Pataky TC, Caravaggi P, Savage R, Parker D, Goulermas JY, Sellers WI, Crompton RH. 2008. New insights into the plantar pressure correlates of walking speed using pedobarographic statistical parametric mapping (pSPM). Journal of Biomechanics 41:1987–1994. DOI: 10.1016/j.jbiomech.2008.03.034.\n",
    "\n",
    "1. Pataky TC, Robinson MA, Vanrenterghem J, Savage R, Bates KT, Crompton RH. 2014. Vector field statistics for objective center-of-pressure trajectory analysis during gait, with evidence of scalar sensitivity to small coordinate system rotations. Gait and Posture 40:255–258. DOI: 10.1016/j.gaitpost.2014.01.023."
   ]
  }
 ],
 "metadata": {
  "kernelspec": {
   "display_name": "Python 3",
   "language": "python",
   "name": "python3"
  },
  "language_info": {
   "codemirror_mode": {
    "name": "ipython",
    "version": 3
   },
   "file_extension": ".py",
   "mimetype": "text/x-python",
   "name": "python",
   "nbconvert_exporter": "python",
   "pygments_lexer": "ipython3",
   "version": "3.6.8"
  }
 },
 "nbformat": 4,
 "nbformat_minor": 2
}
